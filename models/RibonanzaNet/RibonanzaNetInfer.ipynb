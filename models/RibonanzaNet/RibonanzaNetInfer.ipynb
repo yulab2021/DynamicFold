{
 "cells": [
  {
   "cell_type": "markdown",
   "metadata": {},
   "source": [
    "## Environment setup"
   ]
  },
  {
   "cell_type": "markdown",
   "metadata": {
    "vscode": {
     "languageId": "shellscript"
    }
   },
   "source": [
    "```sh\n",
    "conda create -n pred pandas pytorch matplotlib numpy pyyaml tqdm einops\n",
    "```"
   ]
  },
  {
   "cell_type": "code",
   "execution_count": 1,
   "metadata": {},
   "outputs": [],
   "source": [
    "from torch.utils.data import Dataset\n",
    "import torch\n",
    "import numpy as np\n",
    "import pandas as pd\n",
    "import csv\n",
    "import orjson\n",
    "import yaml\n",
    "from Network import *\n",
    "from tqdm import tqdm\n",
    "import matplotlib.pyplot as plt\n"
   ]
  },
  {
   "cell_type": "markdown",
   "metadata": {},
   "source": [
    "## Modules"
   ]
  },
  {
   "cell_type": "code",
   "execution_count": 2,
   "metadata": {},
   "outputs": [],
   "source": [
    "class RNADatasetRN(Dataset):\n",
    "    def __init__(self, dataset_csv, output_csv):\n",
    "        self.data = pd.read_csv(dataset_csv)\n",
    "        self.tokens={nt: i for i, nt in enumerate(\"ACGU\")}\n",
    "\n",
    "        try:\n",
    "            output_data = pd.read_csv(output_csv)\n",
    "            mask = ~self.data[\"SeqID\"].isin(output_data[\"SeqID\"])\n",
    "            self.data = self.data[mask].reset_index(drop=True)\n",
    "            self.output = open(output_csv, \"a\", newline=\"\")\n",
    "            self.writer = csv.writer(self.output)\n",
    "        except:\n",
    "            self.output = open(output_csv, \"w\", newline=\"\")\n",
    "            self.writer = csv.writer(self.output)\n",
    "            self.writer.writerow([\"SeqID\", \"RT\", \"RibonanzaNetPrediction\", \"RibonanzaNetMAE\"])\n",
    "            self.output.flush()\n",
    "\n",
    "    def __len__(self):\n",
    "        return len(self.data)\n",
    "\n",
    "    def __getitem__(self, index):\n",
    "        seq_id = self.data.loc[index, \"SeqID\"]\n",
    "        sequence = self.data.loc[index, \"SQ\"]\n",
    "        sequence = [self.tokens[nt] for nt in sequence]\n",
    "        sequence = torch.tensor(np.array(sequence))\n",
    "        \n",
    "        reactivity = self.data.loc[index,\"RT\"]\n",
    "        reactivity = orjson.loads(reactivity)\n",
    "        return seq_id, sequence, reactivity\n",
    "    \n",
    "    def __repr__(self):\n",
    "        return str(self.data)\n",
    "\n",
    "    def write(self, seq_id, reactivity, prediction, MAE):\n",
    "        reactivity = orjson.dumps(reactivity).decode()\n",
    "        prediction = orjson.dumps(prediction).decode()\n",
    "        row = [seq_id, reactivity, prediction, MAE]\n",
    "        self.writer.writerow(row)\n",
    "        self.output.flush()\n",
    "\n",
    "class Config:\n",
    "    def __init__(self, **entries):\n",
    "        self.__dict__.update(entries)\n",
    "        self.entries = entries\n",
    "\n",
    "    def print(self):\n",
    "        print(self.entries)\n",
    "\n",
    "    @classmethod\n",
    "    def from_yaml(cls, file_path):\n",
    "        with open(file_path, \"r\") as file:\n",
    "            config = yaml.safe_load(file)\n",
    "        return cls(**config)\n",
    "\n",
    "def mean_absolute_error(prediction, truth):\n",
    "    MAE = 0\n",
    "    for p, t in zip(prediction, truth):\n",
    "        MAE += abs(p - t)\n",
    "    MAE = MAE / len(prediction)\n",
    "    return MAE"
   ]
  },
  {
   "cell_type": "markdown",
   "metadata": {},
   "source": [
    "## Configs"
   ]
  },
  {
   "cell_type": "markdown",
   "metadata": {},
   "source": [
    "### Zebrafish"
   ]
  },
  {
   "cell_type": "code",
   "execution_count": 3,
   "metadata": {},
   "outputs": [],
   "source": [
    "args = {\n",
    "    \"dataset_csv\": \"/home/learn/xwt/pred/data/zebrafish/sample/sample.csv\",\n",
    "    \"output_csv\": \"/home/learn/xwt/pred/data/zebrafish/sample/data/predictions.csv\",\n",
    "    \"figure_dir\": \"/home/learn/xwt/pred/data/zebrafish/sample/figures\",\n",
    "    \"config\": \"/home/learn/xwt/pred/models/RibonanzaNet/configs/pairwise.yaml\",\n",
    "    \"weights_pt\": \"/home/learn/xwt/pred/models/RibonanzaNet/weights/RibonanzaNet.pt\",\n",
    "    \"num_cores\": 8\n",
    "}"
   ]
  },
  {
   "cell_type": "markdown",
   "metadata": {},
   "source": [
    "### Neural"
   ]
  },
  {
   "cell_type": "code",
   "execution_count": 3,
   "metadata": {},
   "outputs": [],
   "source": [
    "args = {\n",
    "    \"dataset_csv\": \"/home/learn/xwt/pred/data/neural/sample/sample.csv\",\n",
    "    \"output_csv\": \"/home/learn/xwt/pred/data/neural/sample/data/predictions.csv\",\n",
    "    \"figure_dir\": \"/home/learn/xwt/pred/data/neural/sample/figures\",\n",
    "    \"config\": \"/home/learn/xwt/pred/models/RibonanzaNet/configs/pairwise.yaml\",\n",
    "    \"weights_pt\": \"/home/learn/xwt/pred/models/RibonanzaNet/weights/RibonanzaNet.pt\",\n",
    "    \"num_cores\": 8\n",
    "}"
   ]
  },
  {
   "cell_type": "markdown",
   "metadata": {},
   "source": [
    "## Load data"
   ]
  },
  {
   "cell_type": "code",
   "execution_count": 4,
   "metadata": {},
   "outputs": [
    {
     "name": "stdout",
     "output_type": "stream",
     "text": [
      "                SeqID                                                 SQ  \\\n",
      "0  D7|ENST00000439929  AUGGGUCACCAGCAGCUGUACUGGAGCCACGCGCGAAAAUUCGGCC...   \n",
      "1  D7|ENST00000432323  AUGAGCAAAGCUCACCCUCCCGAGCUGAAAAAAUUUAUGGACAAGA...   \n",
      "2  D8|ENST00000473748  AUGGACACCAGCCGUGUGCAGCCUAUCAAGCUGGCCAGGGUCACCA...   \n",
      "3  D8|ENST00000384674  ACUCUCUCGGCUCUGCAUAGUUGCACUUGGCUUCACCCGUGUGACU...   \n",
      "4  D7|ENST00000447303  AUGCCUCGGAAAAUUGAGGAAAUCAAGGAUUUUCUGCUCACAGUCC...   \n",
      "5  D7|ENST00000384581  AUCCUCCUGAUCCCUUUCCCAUCGGAUCUGAACACUGGUCUUGGUG...   \n",
      "6  D0|ENST00000706951  GAUUCCCUGCAGUAAACGGACUUUUCAUUUAUUUAAUCAUUCAAAC...   \n",
      "7  D0|ENST00000402089  AUGUCUGACAAACCCGAUAUGGCUGAGAUCGAGAAAUUCGAUAAGC...   \n",
      "8  D8|ENST00000520566  AUGUCCGGCCGCGAAGGUGGCAAGAAGAAGCCACUGAAACAGCCCA...   \n",
      "9  D7|ENST00000497342  AUGUCGCACAAACAAAUUUACUAUUCGGACAAAUACGAUGACAAGG...   \n",
      "\n",
      "                                                  RD  \\\n",
      "0  [0.0,0.0,0.0,0.0,0.0,0.0,0.0,0.0,0.0,0.0,0.0,0...   \n",
      "1  [0.03795079675705898,0.3063321218898518,0.3363...   \n",
      "2  [0.2634386493295879,0.29958008745764675,0.5324...   \n",
      "3  [0.0,0.0,0.0,0.0,0.0,0.0,0.0,0.2,0.2,0.2,0.2,0...   \n",
      "4  [0.0,0.0,0.0,0.0,0.0,0.0,0.03618121009425357,0...   \n",
      "5  [0.0,0.0,0.0,0.0,0.0,0.0,0.0,0.0,0.0,0.0,0.0,0...   \n",
      "6  [0.0,0.0,0.0,0.0,0.0,0.0,0.0,0.0,0.0,0.0,0.0,0...   \n",
      "7  [0.0,0.0,0.0,0.0,0.0,0.0,0.25,0.25,0.5,0.5,0.5...   \n",
      "8  [0.014763014763014764,0.13597513597513597,0.27...   \n",
      "9  [0.0,0.0,0.0,0.0,0.0,0.0,0.0,0.0,0.0,0.0,0.0,0...   \n",
      "\n",
      "                                                  ER  \\\n",
      "0  [0.5,0.0,0.0,0.0,0.0,0.0,0.0,0.0,0.0,0.0,0.0,0...   \n",
      "1  [0.8904847396768402,0.4920754716981132,0.03614...   \n",
      "2  [0.6320246343341032,0.06872852233676977,0.2573...   \n",
      "3  [0.5,0.4,0.0,0.14285714285714285,0.0,0.0,0.0,0...   \n",
      "4  [0.6666666666666666,0.3333333333333333,0.63157...   \n",
      "5  [0.5,0.0,0.0,0.0,0.0,0.0,0.0,0.0,0.0,0.0,0.0,0...   \n",
      "6  [0.5,0.0,0.0,0.0,0.0,0.0,0.0,0.0,0.0,0.0,0.0,0...   \n",
      "7  [0.6,0.0,0.0,0.0,0.0,0.125,0.1,0.0,0.083333333...   \n",
      "8  [0.9,0.47265625,0.20833333333333334,0.01363636...   \n",
      "9  [1.0,0.1590909090909091,0.022222222222222223,0...   \n",
      "\n",
      "                                                  MR  \\\n",
      "0  [0.5714285714285714,0.6428571428571429,0.42857...   \n",
      "1  [0.44165170556552963,0.810566037735849,0.63997...   \n",
      "2  [0.6889915319476521,0.7027491408934707,0.56869...   \n",
      "3  [1.0,0.0,0.8,0.7142857142857143,0.428571428571...   \n",
      "4  [0.0,0.0,0.0,0.0,0.0,0.0,0.008,0.0,0.0,0.0,0.0...   \n",
      "5  [1.0,1.0,1.0,0.0,0.0,0.0,0.0,0.0,0.0,0.0,0.0,0...   \n",
      "6  [0.0,0.0,0.0,0.0,0.0,0.0,0.0,0.0,0.0,0.0,0.0,0...   \n",
      "7  [0.8,0.5,0.6666666666666666,0.0,0.0,0.0,0.0,0....   \n",
      "8  [0.61,0.609375,0.09259259259259259,0.418181818...   \n",
      "9  [0.4594594594594595,0.7727272727272727,0.66666...   \n",
      "\n",
      "                                                  RT  \\\n",
      "0  [1.0,1.0,1.0,0.5191051141939258,0.860118229535...   \n",
      "1  [0.21022067363530816,1.0,0.9070847851335672,1....   \n",
      "2  [1.0,1.0,1.0,1.0,1.0,1.0,0.8278067089408039,1....   \n",
      "3  [1.0,1.0,1.0,0.0,0.5022221733682111,0.19444351...   \n",
      "4  [0.0,1.0,1.0,0.6104591358615541,0.111968778925...   \n",
      "5  [1.0,1.0,0.0,0.03982225106586265,0.0,0.4408690...   \n",
      "6  [1.0,1.0,1.0,1.0,0.3824489238369648,0.98014180...   \n",
      "7  [0.0,0.46544407041848196,0.9127013502525249,0....   \n",
      "8  [1.0,1.0,1.0,1.0,1.0,0.30230206474692106,0.323...   \n",
      "9  [1.0,1.0,1.0,1.0,0.9998481426970564,0.38899417...   \n",
      "\n",
      "                                                  IC Sample          RefName  \\\n",
      "0  [0,0,0,0,0,0,0,0,0,0,0,0,0,0,0,0,0,0,0,0,0,0,0...     D7  ENST00000439929   \n",
      "1  [0,0,0,0,0,0,0,0,0,0,0,0,0,0,0,0,0,0,0,0,0,0,0...     D7  ENST00000432323   \n",
      "2  [0,0,0,0,0,0,0,0,0,0,0,0,0,0,0,0,0,0,0,0,0,0,0...     D8  ENST00000473748   \n",
      "3  [0,0,0,0,0,0,0,0,0,0,0,0,0,0,0,0,0,0,0,0,0,0,0...     D8  ENST00000384674   \n",
      "4  [0,0,0,0,0,0,0,0,0,0,0,0,0,0,0,0,0,0,0,0,0,0,0...     D7  ENST00000447303   \n",
      "5  [0,0,0,0,0,0,0,0,0,0,0,0,0,0,0,0,0,0,0,0,0,0,0...     D7  ENST00000384581   \n",
      "6  [0,0,0,0,0,0,0,0,0,0,0,0,0,0,0,0,0,0,0,0,0,0,0...     D0  ENST00000706951   \n",
      "7  [0,0,0,0,0,0,0,0,0,0,0,0,0,0,0,0,0,0,0,0,0,0,0...     D0  ENST00000402089   \n",
      "8  [0,0,0,0,0,0,0,0,0,0,0,0,0,0,0,0,0,0,0,0,0,0,0...     D8  ENST00000520566   \n",
      "9  [0,0,0,0,0,0,0,0,0,0,0,0,0,0,0,0,0,0,0,0,0,0,0...     D7  ENST00000497342   \n",
      "\n",
      "   Start  End  FullLength  ValidLength  StripLength    MeanDepth   MeanEnd  \\\n",
      "0      1   -1         171          171            0    20.342105  0.010741   \n",
      "1      1   -3         225          223            2  1068.886667  0.023604   \n",
      "2      1   -1         210          210            0  2946.945238  0.024771   \n",
      "3      1   -1         134          134            0     5.294776  0.015399   \n",
      "4      1   -1         205          205            0   479.429268  0.037259   \n",
      "5      1   -2         130          129            1     4.744186  0.010271   \n",
      "6      3   -3         129          125            4     2.600000  0.013333   \n",
      "7      1   -1         135          135            0     7.000000  0.014303   \n",
      "8      1   -1         192          192            0   486.846354  0.031714   \n",
      "9      1   -1         240          240            0   205.620833  0.021538   \n",
      "\n",
      "   MeanDensity  MeanMismatch  Gap  \n",
      "0    71.530702      0.058219    0  \n",
      "1    55.725336      0.038481    0  \n",
      "2   602.906349      0.025357    0  \n",
      "3    26.094527      0.035205    0  \n",
      "4   241.896341      0.073128    0  \n",
      "5    11.315385      0.029457    0  \n",
      "6    62.631783      0.008000    0  \n",
      "7   489.948148      0.044925    0  \n",
      "8   111.737847      0.036637    0  \n",
      "9    86.000000      0.033881    0  \n"
     ]
    }
   ],
   "source": [
    "dataset = RNADatasetRN(args[\"dataset_csv\"], args[\"output_csv\"])\n",
    "print(dataset)"
   ]
  },
  {
   "cell_type": "markdown",
   "metadata": {},
   "source": [
    "## Load model"
   ]
  },
  {
   "cell_type": "code",
   "execution_count": 5,
   "metadata": {},
   "outputs": [
    {
     "name": "stdout",
     "output_type": "stream",
     "text": [
      "constructing 9 ConvTransformerEncoderLayers\n"
     ]
    }
   ],
   "source": [
    "model = RibonanzaNet(Config.from_yaml(args[\"config\"]))\n",
    "model.load_state_dict(torch.load(args[\"weights_pt\"], map_location=torch.device('cpu')))\n",
    "torch.set_num_threads(args[\"num_cores\"])"
   ]
  },
  {
   "cell_type": "markdown",
   "metadata": {},
   "source": [
    "## Infer"
   ]
  },
  {
   "cell_type": "code",
   "execution_count": 6,
   "metadata": {},
   "outputs": [
    {
     "name": "stderr",
     "output_type": "stream",
     "text": [
      "Predict Reactivity: 100%|██████████| 10/10 [07:04<00:00, 42.46s/it]\n"
     ]
    }
   ],
   "source": [
    "for index in tqdm(range(len(dataset)), desc=\"Predict Reactivity\"):\n",
    "    try:\n",
    "        seq_id, sequence, reactivity = dataset[index]\n",
    "        sequence = sequence.unsqueeze(0)\n",
    "        with torch.no_grad():\n",
    "            prediction = model(sequence, torch.ones_like(sequence)).squeeze().cpu().numpy()\n",
    "        prediction = prediction[:,0].tolist()\n",
    "        MAE = mean_absolute_error(prediction, reactivity)\n",
    "    except KeyError:\n",
    "        continue\n",
    "    dataset.write(seq_id, reactivity, prediction, MAE)"
   ]
  },
  {
   "cell_type": "markdown",
   "metadata": {},
   "source": [
    "## Plot results"
   ]
  },
  {
   "cell_type": "code",
   "execution_count": 9,
   "metadata": {},
   "outputs": [],
   "source": [
    "results_data = pd.read_csv(args[\"output_csv\"])\n",
    "for _, row in results_data.iterrows():\n",
    "    seq_id, reactivity, prediction, _ = row\n",
    "    reactivity = orjson.loads(reactivity)\n",
    "    prediction = orjson.loads(prediction)\n",
    "\n",
    "    fig = plt.figure(figsize=(len(reactivity) / 5, 5))\n",
    "    plt.plot(prediction, label=\"Prediction\")\n",
    "    plt.plot(reactivity, label=\"Truth\")\n",
    "    \n",
    "    plt.xlabel(\"Position\")\n",
    "    plt.ylabel(\"Reactivity\")\n",
    "    plt.legend()\n",
    "    plt.savefig(f\"{args['figure_dir']}/{seq_id}.pdf\", format=\"pdf\", bbox_inches=\"tight\")\n",
    "    plt.close()"
   ]
  }
 ],
 "metadata": {
  "kernelspec": {
   "display_name": "pred",
   "language": "python",
   "name": "python3"
  },
  "language_info": {
   "codemirror_mode": {
    "name": "ipython",
    "version": 3
   },
   "file_extension": ".py",
   "mimetype": "text/x-python",
   "name": "python",
   "nbconvert_exporter": "python",
   "pygments_lexer": "ipython3",
   "version": "3.12.8"
  }
 },
 "nbformat": 4,
 "nbformat_minor": 2
}
